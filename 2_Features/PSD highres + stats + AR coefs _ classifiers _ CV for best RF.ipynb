{
 "cells": [
  {
   "cell_type": "markdown",
   "metadata": {},
   "source": [
    "**Results**: Best hyperparameters for Random Forest:\n",
    "* N = 150 trees\n",
    "* Better with no class weights (both in acc and F1)\n",
    "* Entropy criterion produces slightly better results than Gini\n"
   ]
  },
  {
   "cell_type": "code",
   "execution_count": 1,
   "metadata": {},
   "outputs": [],
   "source": [
    "import sys\n",
    "sys.path.append('..')\n",
    "from myfunctions_dataloader import mydataloader_cv\n",
    "import matplotlib.pyplot as plt\n",
    "import numpy as np"
   ]
  },
  {
   "cell_type": "code",
   "execution_count": 2,
   "metadata": {},
   "outputs": [],
   "source": [
    "from sklearn.ensemble import RandomForestClassifier as RF\n",
    "from sklearn.metrics import accuracy_score, confusion_matrix, f1_score\n",
    "from sklearn.model_selection import GridSearchCV\n",
    "import pandas as pd"
   ]
  },
  {
   "cell_type": "code",
   "execution_count": 3,
   "metadata": {},
   "outputs": [
    {
     "name": "stdout",
     "output_type": "stream",
     "text": [
      " \n",
      "There are less files than the provided maximum\n",
      "shhs1-200001 loaded!\n",
      "shhs1-200002 loaded!\n",
      "shhs1-200003 loaded!\n",
      "shhs1-200004 loaded!\n",
      "shhs1-200005 loaded!\n",
      "shhs1-200006 loaded!\n",
      "shhs1-200007 loaded!\n",
      "shhs1-200008 loaded!\n",
      "shhs1-200009 loaded!\n",
      "shhs1-200010 loaded!\n",
      "shhs1-200011 loaded!\n",
      "shhs1-200012 loaded!\n",
      "shhs1-200013 loaded!\n",
      "shhs1-200014 loaded!\n",
      "shhs1-200015 loaded!\n",
      "shhs1-200016 loaded!\n",
      "shhs1-200017 loaded!\n",
      "shhs1-200018 loaded!\n",
      "shhs1-200019 loaded!\n",
      "shhs1-200020 loaded!\n",
      "Validation subjects in fold 0 [ 0  1 15 17]\n",
      "Validation subjects in fold 1 [ 3  5  8 11]\n",
      "Validation subjects in fold 2 [ 2 13 16 18]\n",
      "Validation subjects in fold 3 [ 4  9 12 19]\n",
      "Validation subjects in fold 4 [ 6  7 10 14]\n"
     ]
    }
   ],
   "source": [
    "d = mydataloader_cv()\n",
    "Fs = 50\n",
    "root = 'C:/Users/Javi/Documents/GitHub/TFM/'\n",
    "d.load_data(path=root+'example_processed_data_v5', K=5, max_n_files=20)"
   ]
  },
  {
   "cell_type": "code",
   "execution_count": 4,
   "metadata": {},
   "outputs": [],
   "source": [
    "from sklearn.preprocessing import StandardScaler\n",
    "scaler = StandardScaler()\n",
    "\n",
    "X_cv_train = [ [] for k in range(d.K)]\n",
    "X_cv_valid = [ [] for k in range(d.K)]\n",
    "for k in range(d.K):\n",
    "    X_cv_train[k] = np.concatenate(\n",
    "        [d.stats_cv_train[k].reshape((d.stats_cv_train[k].shape[0],-1)),\n",
    "         d.PSD_highres_cv_train[k].reshape((d.PSD_highres_cv_train[k].shape[0],-1)),\n",
    "         d.AR_coefs_cv_train[k].reshape((d.AR_coefs_cv_train[k].shape[0],-1))],axis=1)\n",
    "    \n",
    "    X_cv_valid[k] = np.concatenate(\n",
    "        [d.stats_cv_valid[k].reshape((d.stats_cv_valid[k].shape[0],-1)),\n",
    "         d.PSD_highres_cv_valid[k].reshape((d.PSD_highres_cv_valid[k].shape[0],-1)),\n",
    "         d.AR_coefs_cv_valid[k].reshape((d.AR_coefs_cv_valid[k].shape[0],-1))], axis=1)\n",
    "    \n",
    "    # use the standard scaler for proper behaviour\n",
    "    X_cv_train[k] = scaler.fit_transform(X_cv_train[k])\n",
    "    X_cv_valid[k] = scaler.transform(X_cv_valid[k])"
   ]
  },
  {
   "cell_type": "code",
   "execution_count": 5,
   "metadata": {},
   "outputs": [
    {
     "data": {
      "text/plain": [
       "(15533, 232)"
      ]
     },
     "execution_count": 5,
     "metadata": {},
     "output_type": "execute_result"
    }
   ],
   "source": [
    "X_cv_train[0].shape"
   ]
  },
  {
   "cell_type": "code",
   "execution_count": 6,
   "metadata": {},
   "outputs": [],
   "source": [
    "import seaborn as sb\n",
    "\n",
    "def plot_mean_cm(cm_list):\n",
    "    K = len(cm_list)\n",
    "    full_valid_cm = np.asarray(cm_list)\n",
    "    sum_valid_cm = np.sum(full_valid_cm, axis=0)\n",
    "    cm = sum_valid_cm\n",
    "\n",
    "    counts_per_class = cm.sum(axis=1)  # how much of each class is there (real classes)\n",
    "    counts_per_class[counts_per_class == 0] = 1  # to avoid division by zero\n",
    "    normcm = (cm.T / counts_per_class).T  # normalize by real classes\n",
    "\n",
    "    labels = ['Wake', 'N1', 'N2', 'N3', 'REM']\n",
    "    cmap = 'gist_gray'  # 'coolwarm'\n",
    "\n",
    "    fig, (ax1, ax2) = plt.subplots(1, 2, figsize=(8, 4), gridspec_kw={'width_ratios': [1, 5]})\n",
    "    norm_counts_per_class = (counts_per_class / np.sum(counts_per_class)).reshape(-1, 1)\n",
    "    sb.heatmap(norm_counts_per_class, ax=ax1, annot=True, fmt='.2f', cmap=cmap, xticklabels=[], yticklabels=labels,\n",
    "               cbar=False, vmin=0, vmax=0.5)\n",
    "    sb.heatmap(normcm, ax=ax2, annot=True, fmt='.2f', cmap=cmap, xticklabels=labels, linewidths=0.05, cbar=False,\n",
    "               vmin=0, vmax=1, yticklabels=labels)\n",
    "    ax1.set_ylabel('Real')\n",
    "    ax2.set_ylabel('Real')\n",
    "    ax2.set_xlabel('Predicted')\n",
    "    ax1.tick_params(axis='both', which='both', length=0)\n",
    "    ax2.tick_params(axis='both', which='both', length=0)\n",
    "    ax1.set_title('Relative density of\\neach real class')\n",
    "    plt.show()"
   ]
  },
  {
   "cell_type": "markdown",
   "metadata": {},
   "source": [
    "# Random Forest"
   ]
  },
  {
   "cell_type": "code",
   "execution_count": 7,
   "metadata": {},
   "outputs": [
    {
     "name": "stdout",
     "output_type": "stream",
     "text": [
      "Mean acc 73.6 +- 3.2 %\n",
      "Mean MacroF1 0.563 +- 0.036 %\n"
     ]
    },
    {
     "data": {
      "image/png": "[encoded data removed]",
      "text/plain": [
       "<Figure size 576x288 with 2 Axes>"
      ]
     },
     "metadata": {
      "needs_background": "light"
     },
     "output_type": "display_data"
    }
   ],
   "source": [
    "clf = RF(n_estimators=50, n_jobs=-1)\n",
    "\n",
    "acc = []\n",
    "f1macro = []\n",
    "cm = []\n",
    "for k in range(d.K):\n",
    "    clf.fit(X_cv_train[k],d.hypnogram_cv_train[k])\n",
    "    pred = clf.predict(X_cv_valid[k])\n",
    "    acc.append(accuracy_score(d.hypnogram_cv_valid[k], pred))\n",
    "    f1macro.append(f1_score(d.hypnogram_cv_valid[k], pred,average='macro'))\n",
    "    cm.append(confusion_matrix(d.hypnogram_cv_valid[k], pred))   \n",
    "print('Mean acc %.1f +- %.1f %%' %(100*np.mean(acc),100*np.std(acc)))\n",
    "print('Mean MacroF1 %.3f +- %.3f %%' %(np.mean(f1macro),np.std(f1macro)))\n",
    "plot_mean_cm(cm)"
   ]
  },
  {
   "cell_type": "code",
   "execution_count": 8,
   "metadata": {},
   "outputs": [
    {
     "name": "stdout",
     "output_type": "stream",
     "text": [
      "[0.7129213483146067, 0.7288741383712024, 0.7917195834391669, 0.7430412371134021, 0.7009739405106608]\n"
     ]
    }
   ],
   "source": [
    "print(acc)"
   ]
  },
  {
   "cell_type": "code",
   "execution_count": 11,
   "metadata": {},
   "outputs": [
    {
     "name": "stdout",
     "output_type": "stream",
     "text": [
      "Mean acc 73.1 +- 3.1 %\n",
      "Mean MacroF1 0.550 +- 0.034 %\n"
     ]
    },
    {
     "data": {
      "image/png": "[encoded data removed]",
      "text/plain": [
       "<Figure size 576x288 with 2 Axes>"
      ]
     },
     "metadata": {
      "needs_background": "light"
     },
     "output_type": "display_data"
    }
   ],
   "source": [
    "clf = RF(n_estimators=50, n_jobs=-1, class_weight={0:1,1:3,2:1,3:2,4:2})\n",
    "\n",
    "acc = []\n",
    "f1macro = []\n",
    "cm = []\n",
    "for k in range(d.K):\n",
    "    clf.fit(X_cv_train[k],d.hypnogram_cv_train[k])\n",
    "    pred = clf.predict(X_cv_valid[k])\n",
    "    acc.append(accuracy_score(d.hypnogram_cv_valid[k], pred))\n",
    "    f1macro.append(f1_score(d.hypnogram_cv_valid[k], pred,average='macro'))\n",
    "    cm.append(confusion_matrix(d.hypnogram_cv_valid[k], pred))   \n",
    "print('Mean acc %.1f +- %.1f %%' %(100*np.mean(acc),100*np.std(acc)))\n",
    "print('Mean MacroF1 %.3f +- %.3f %%' %(np.mean(f1macro),np.std(f1macro)))\n",
    "plot_mean_cm(cm)"
   ]
  },
  {
   "cell_type": "markdown",
   "metadata": {},
   "source": [
    "# Grid Search over RF\n",
    "Let's try the GridSeach function. However, it will mix the subjects probably and that will distort the results. Let's see anyway."
   ]
  },
  {
   "cell_type": "code",
   "execution_count": 16,
   "metadata": {},
   "outputs": [
    {
     "name": "stdout",
     "output_type": "stream",
     "text": [
      "[0.71306706 0.71235948 0.71332487 0.71081386 0.71268106 0.71422613]\n",
      "Test accuracy:  0.7132022471910112\n",
      "Test macro F1:  0.5249320867062115\n"
     ]
    }
   ],
   "source": [
    "from sklearn.model_selection import GridSearchCV\n",
    "parameters = {'n_estimators': range(100,151,10)} \n",
    "clf = GridSearchCV(RF(), parameters, cv=5, n_jobs=-1, scoring='accuracy')\n",
    "clf.fit(X_cv_train[0], d.hypnogram_cv_train[0])\n",
    "print(clf.cv_results_['mean_test_score'])\n",
    "prediction = clf.best_estimator_.predict(X_cv_valid[0])\n",
    "print('Test accuracy: ',accuracy_score(prediction, d.hypnogram_cv_valid[0]))\n",
    "print('Test macro F1: ',f1_score(prediction, d.hypnogram_cv_valid[0],average='macro'))"
   ]
  },
  {
   "cell_type": "code",
   "execution_count": 17,
   "metadata": {},
   "outputs": [
    {
     "name": "stdout",
     "output_type": "stream",
     "text": [
      "   mean_fit_time  std_fit_time  mean_score_time  std_score_time  \\\n",
      "0      35.480922      0.688295         0.135078        0.005030   \n",
      "1      38.835146      0.815252         0.147574        0.004427   \n",
      "2      42.553937      0.585411         0.160039        0.007293   \n",
      "3      46.036032      0.904275         0.177394        0.004819   \n",
      "4      49.911973      1.109932         0.183433        0.004215   \n",
      "5      50.320483      4.399657         0.179906        0.029493   \n",
      "\n",
      "  param_n_estimators                 params  split0_test_score  \\\n",
      "0                100  {'n_estimators': 100}           0.749920   \n",
      "1                110  {'n_estimators': 110}           0.748310   \n",
      "2                120  {'n_estimators': 120}           0.747667   \n",
      "3                130  {'n_estimators': 130}           0.745735   \n",
      "4                140  {'n_estimators': 140}           0.747988   \n",
      "5                150  {'n_estimators': 150}           0.749598   \n",
      "\n",
      "   split1_test_score  split2_test_score  split3_test_score  split4_test_score  \\\n",
      "0           0.684583           0.634052           0.726658           0.770122   \n",
      "1           0.675249           0.633730           0.731165           0.773342   \n",
      "2           0.684905           0.632121           0.726980           0.774952   \n",
      "3           0.681687           0.633408           0.717965           0.775274   \n",
      "4           0.681687           0.633408           0.727946           0.772376   \n",
      "5           0.683296           0.635340           0.727624           0.775274   \n",
      "\n",
      "   mean_test_score  std_test_score  rank_test_score  \n",
      "0         0.713067        0.048688                3  \n",
      "1         0.712359        0.050842                5  \n",
      "2         0.713325        0.050131                2  \n",
      "3         0.710814        0.049529                6  \n",
      "4         0.712681        0.049574                4  \n",
      "5         0.714226        0.049673                1  \n"
     ]
    }
   ],
   "source": [
    "results = pd.DataFrame(clf.cv_results_)\n",
    "print(results)"
   ]
  },
  {
   "cell_type": "code",
   "execution_count": 18,
   "metadata": {},
   "outputs": [
    {
     "name": "stdout",
     "output_type": "stream",
     "text": [
      "Mean acc 74.0 +- 3.6 %\n",
      "Mean MacroF1 0.565 +- 0.040 %\n"
     ]
    },
    {
     "data": {
      "image/png": "[encoded data removed]",
      "text/plain": [
       "<Figure size 576x288 with 2 Axes>"
      ]
     },
     "metadata": {
      "needs_background": "light"
     },
     "output_type": "display_data"
    }
   ],
   "source": [
    "clf = RF(n_estimators=100, n_jobs=-1)\n",
    "\n",
    "acc = []\n",
    "f1macro = []\n",
    "cm = []\n",
    "for k in range(d.K):\n",
    "    clf.fit(X_cv_train[k],d.hypnogram_cv_train[k])\n",
    "    pred = clf.predict(X_cv_valid[k])\n",
    "    acc.append(accuracy_score(d.hypnogram_cv_valid[k], pred))\n",
    "    f1macro.append(f1_score(d.hypnogram_cv_valid[k], pred,average='macro'))\n",
    "    cm.append(confusion_matrix(d.hypnogram_cv_valid[k], pred))   \n",
    "print('Mean acc %.1f +- %.1f %%' %(100*np.mean(acc),100*np.std(acc)))\n",
    "print('Mean MacroF1 %.3f +- %.3f %%' %(np.mean(f1macro),np.std(f1macro)))\n",
    "plot_mean_cm(cm)"
   ]
  },
  {
   "cell_type": "code",
   "execution_count": 19,
   "metadata": {},
   "outputs": [
    {
     "name": "stdout",
     "output_type": "stream",
     "text": [
      "Mean acc 74.2 +- 3.8 %\n",
      "Mean MacroF1 0.567 +- 0.040 %\n"
     ]
    },
    {
     "data": {
      "image/png": "[encoded data removed]",
      "text/plain": [
       "<Figure size 576x288 with 2 Axes>"
      ]
     },
     "metadata": {
      "needs_background": "light"
     },
     "output_type": "display_data"
    }
   ],
   "source": [
    "clf = RF(n_estimators=150, n_jobs=-1)\n",
    "\n",
    "acc = []\n",
    "f1macro = []\n",
    "cm = []\n",
    "for k in range(d.K):\n",
    "    clf.fit(X_cv_train[k],d.hypnogram_cv_train[k])\n",
    "    pred = clf.predict(X_cv_valid[k])\n",
    "    acc.append(accuracy_score(d.hypnogram_cv_valid[k], pred))\n",
    "    f1macro.append(f1_score(d.hypnogram_cv_valid[k], pred,average='macro'))\n",
    "    cm.append(confusion_matrix(d.hypnogram_cv_valid[k], pred))   \n",
    "print('Mean acc %.1f +- %.1f %%' %(100*np.mean(acc),100*np.std(acc)))\n",
    "print('Mean MacroF1 %.3f +- %.3f %%' %(np.mean(f1macro),np.std(f1macro)))\n",
    "plot_mean_cm(cm)"
   ]
  },
  {
   "cell_type": "markdown",
   "metadata": {},
   "source": [
    "## CV with class weights\n",
    "Macro F1 as target. Best results with no class balance."
   ]
  },
  {
   "cell_type": "code",
   "execution_count": 21,
   "metadata": {
    "scrolled": true
   },
   "outputs": [
    {
     "name": "stdout",
     "output_type": "stream",
     "text": [
      "[0.54615212 0.54733978 0.54706495 0.53015876 0.53155757 0.53251004\n",
      " 0.53040671 0.53605489 0.53906722 0.53396961 0.53163975 0.53539046]\n",
      "    mean_fit_time  std_fit_time  mean_score_time  std_score_time  \\\n",
      "0       19.052116      1.837086         0.135442        0.033972   \n",
      "1       40.289789      1.461038         0.151889        0.006528   \n",
      "2       56.273189      1.067143         0.217656        0.014103   \n",
      "3       17.511952      0.451927         0.075040        0.009744   \n",
      "4       35.515103      0.606211         0.147603        0.010992   \n",
      "5       53.281732      0.739088         0.235221        0.031707   \n",
      "6       17.484547      0.155672         0.085039        0.008304   \n",
      "7       37.557942      1.046298         0.139265        0.007553   \n",
      "8       53.590915      1.746679         0.195335        0.003756   \n",
      "9       18.125893      0.278003         0.107638        0.025489   \n",
      "10      35.986139      0.602387         0.155685        0.024588   \n",
      "11      48.956593      5.436786         0.211880        0.045555   \n",
      "\n",
      "                param_class_weight param_n_estimators  \\\n",
      "0                             None                 50   \n",
      "1                             None                100   \n",
      "2                             None                150   \n",
      "3                         balanced                 50   \n",
      "4                         balanced                100   \n",
      "5                         balanced                150   \n",
      "6   {0: 1, 1: 3, 2: 1, 3: 2, 4: 2}                 50   \n",
      "7   {0: 1, 1: 3, 2: 1, 3: 2, 4: 2}                100   \n",
      "8   {0: 1, 1: 3, 2: 1, 3: 2, 4: 2}                150   \n",
      "9   {0: 1, 1: 3, 2: 1, 3: 3, 4: 3}                 50   \n",
      "10  {0: 1, 1: 3, 2: 1, 3: 3, 4: 3}                100   \n",
      "11  {0: 1, 1: 3, 2: 1, 3: 3, 4: 3}                150   \n",
      "\n",
      "                                               params  split0_test_score  \\\n",
      "0          {'class_weight': None, 'n_estimators': 50}           0.572249   \n",
      "1         {'class_weight': None, 'n_estimators': 100}           0.575745   \n",
      "2         {'class_weight': None, 'n_estimators': 150}           0.576898   \n",
      "3    {'class_weight': 'balanced', 'n_estimators': 50}           0.570533   \n",
      "4   {'class_weight': 'balanced', 'n_estimators': 100}           0.582066   \n",
      "5   {'class_weight': 'balanced', 'n_estimators': 150}           0.581880   \n",
      "6   {'class_weight': {0: 1, 1: 3, 2: 1, 3: 2, 4: 2...           0.582280   \n",
      "7   {'class_weight': {0: 1, 1: 3, 2: 1, 3: 2, 4: 2...           0.577009   \n",
      "8   {'class_weight': {0: 1, 1: 3, 2: 1, 3: 2, 4: 2...           0.582640   \n",
      "9   {'class_weight': {0: 1, 1: 3, 2: 1, 3: 3, 4: 3...           0.579607   \n",
      "10  {'class_weight': {0: 1, 1: 3, 2: 1, 3: 3, 4: 3...           0.582632   \n",
      "11  {'class_weight': {0: 1, 1: 3, 2: 1, 3: 3, 4: 3...           0.581816   \n",
      "\n",
      "    split1_test_score  split2_test_score  split3_test_score  \\\n",
      "0            0.531117           0.463939           0.576920   \n",
      "1            0.531190           0.471389           0.567356   \n",
      "2            0.530239           0.472042           0.563771   \n",
      "3            0.519403           0.464504           0.523944   \n",
      "4            0.519230           0.457488           0.531471   \n",
      "5            0.517628           0.458652           0.527191   \n",
      "6            0.518137           0.454262           0.519109   \n",
      "7            0.524935           0.469936           0.533757   \n",
      "8            0.525628           0.466837           0.545307   \n",
      "9            0.518952           0.470203           0.525039   \n",
      "10           0.517395           0.466810           0.515322   \n",
      "11           0.515208           0.471415           0.530182   \n",
      "\n",
      "    split4_test_score  mean_test_score  std_test_score  rank_test_score  \n",
      "0            0.586536         0.546152        0.045263                3  \n",
      "1            0.591018         0.547340        0.042766                1  \n",
      "2            0.592374         0.547065        0.042740                2  \n",
      "3            0.572411         0.530159        0.039699               12  \n",
      "4            0.567533         0.531558        0.043551               10  \n",
      "5            0.577200         0.532510        0.045032                8  \n",
      "6            0.578246         0.530407        0.047023               11  \n",
      "7            0.574637         0.536055        0.039157                5  \n",
      "8            0.574924         0.539067        0.041524                4  \n",
      "9            0.576046         0.533970        0.040558                7  \n",
      "10           0.576038         0.531640        0.042996                9  \n",
      "11           0.578331         0.535390        0.041296                6  \n",
      "Test accuracy:  0.7143258426966292\n",
      "Test macro F1:  0.5308848427838947\n"
     ]
    }
   ],
   "source": [
    "from sklearn.model_selection import GridSearchCV\n",
    "parameters = {'n_estimators': [50,100,150], \n",
    "              'class_weight': [None, 'balanced',\n",
    "                              {0:1,1:3,2:1,3:2,4:2},\n",
    "                              {0:1,1:3,2:1,3:3,4:3}]} \n",
    "clf = GridSearchCV(RF(), parameters, cv=5, n_jobs=-1, scoring='f1_macro')\n",
    "clf.fit(X_cv_train[0], d.hypnogram_cv_train[0])\n",
    "print(clf.cv_results_['mean_test_score'])\n",
    "results = pd.DataFrame(clf.cv_results_)\n",
    "print(results)\n",
    "prediction = clf.best_estimator_.predict(X_cv_valid[0])\n",
    "print('Test accuracy: ',accuracy_score(prediction, d.hypnogram_cv_valid[0]))\n",
    "print('Test macro F1: ',f1_score(prediction, d.hypnogram_cv_valid[0],average='macro'))"
   ]
  },
  {
   "cell_type": "markdown",
   "metadata": {},
   "source": [
    "## CV with separation method\n",
    "Gini vs entropy\n",
    "They produce very similar results, entropy is slightly better."
   ]
  },
  {
   "cell_type": "code",
   "execution_count": 22,
   "metadata": {
    "scrolled": true
   },
   "outputs": [
    {
     "name": "stdout",
     "output_type": "stream",
     "text": [
      "[0.53802213 0.54398684 0.53943855 0.54533673 0.545315   0.54606667\n",
      " 0.53803136 0.53962483 0.54132211 0.54496406 0.54905722 0.5455797\n",
      " 0.54582991 0.54302747 0.54578411 0.53583346 0.53934616 0.54134799]\n",
      "    mean_fit_time  std_fit_time  mean_score_time  std_score_time  \\\n",
      "0       19.695286      0.654156         0.086752        0.013438   \n",
      "1       39.447306      2.389538         0.135197        0.004239   \n",
      "2       54.348173      1.187405         0.211961        0.006454   \n",
      "3       18.558671      0.681685         0.076271        0.012299   \n",
      "4       35.638296      0.507751         0.132776        0.003212   \n",
      "5       54.617580      0.789933         0.201784        0.011063   \n",
      "6       16.727463      0.588305         0.063858        0.003534   \n",
      "7       33.829518      0.684997         0.130770        0.019305   \n",
      "8       51.576907      1.583000         0.199752        0.033085   \n",
      "9       35.724432      0.760230         0.063349        0.003754   \n",
      "10      70.958328      0.686635         0.119486        0.003265   \n",
      "11     105.117480      0.937755         0.175457        0.004922   \n",
      "12      34.336702      0.522144         0.065752        0.004348   \n",
      "13      70.243791      1.227522         0.123443        0.012111   \n",
      "14     105.001297      1.146359         0.171453        0.005801   \n",
      "15      32.208593      0.417785         0.058914        0.007371   \n",
      "16      62.744580      0.577490         0.103371        0.002932   \n",
      "17      85.742093     11.488789         0.136814        0.023023   \n",
      "\n",
      "   param_criterion param_min_samples_split param_n_estimators  \\\n",
      "0             gini                       2                 50   \n",
      "1             gini                       2                100   \n",
      "2             gini                       2                150   \n",
      "3             gini                      10                 50   \n",
      "4             gini                      10                100   \n",
      "5             gini                      10                150   \n",
      "6             gini                      50                 50   \n",
      "7             gini                      50                100   \n",
      "8             gini                      50                150   \n",
      "9          entropy                       2                 50   \n",
      "10         entropy                       2                100   \n",
      "11         entropy                       2                150   \n",
      "12         entropy                      10                 50   \n",
      "13         entropy                      10                100   \n",
      "14         entropy                      10                150   \n",
      "15         entropy                      50                 50   \n",
      "16         entropy                      50                100   \n",
      "17         entropy                      50                150   \n",
      "\n",
      "                                               params  split0_test_score  \\\n",
      "0   {'criterion': 'gini', 'min_samples_split': 2, ...           0.564755   \n",
      "1   {'criterion': 'gini', 'min_samples_split': 2, ...           0.573945   \n",
      "2   {'criterion': 'gini', 'min_samples_split': 2, ...           0.576410   \n",
      "3   {'criterion': 'gini', 'min_samples_split': 10,...           0.576316   \n",
      "4   {'criterion': 'gini', 'min_samples_split': 10,...           0.574311   \n",
      "5   {'criterion': 'gini', 'min_samples_split': 10,...           0.576204   \n",
      "6   {'criterion': 'gini', 'min_samples_split': 50,...           0.570499   \n",
      "7   {'criterion': 'gini', 'min_samples_split': 50,...           0.573474   \n",
      "8   {'criterion': 'gini', 'min_samples_split': 50,...           0.573297   \n",
      "9   {'criterion': 'entropy', 'min_samples_split': ...           0.576673   \n",
      "10  {'criterion': 'entropy', 'min_samples_split': ...           0.577707   \n",
      "11  {'criterion': 'entropy', 'min_samples_split': ...           0.579275   \n",
      "12  {'criterion': 'entropy', 'min_samples_split': ...           0.577987   \n",
      "13  {'criterion': 'entropy', 'min_samples_split': ...           0.578840   \n",
      "14  {'criterion': 'entropy', 'min_samples_split': ...           0.576136   \n",
      "15  {'criterion': 'entropy', 'min_samples_split': ...           0.573184   \n",
      "16  {'criterion': 'entropy', 'min_samples_split': ...           0.575684   \n",
      "17  {'criterion': 'entropy', 'min_samples_split': ...           0.576251   \n",
      "\n",
      "    split1_test_score  split2_test_score  split3_test_score  \\\n",
      "0            0.529643           0.459693           0.549338   \n",
      "1            0.528834           0.456797           0.568467   \n",
      "2            0.523116           0.458892           0.552579   \n",
      "3            0.525977           0.470429           0.563730   \n",
      "4            0.529821           0.463198           0.570994   \n",
      "5            0.530637           0.462572           0.570043   \n",
      "6            0.522317           0.458715           0.562097   \n",
      "7            0.529626           0.457564           0.555261   \n",
      "8            0.532654           0.459474           0.562159   \n",
      "9            0.526158           0.478314           0.559894   \n",
      "10           0.527378           0.474144           0.578430   \n",
      "11           0.526105           0.468198           0.573343   \n",
      "12           0.532962           0.474180           0.563242   \n",
      "13           0.525148           0.461814           0.566628   \n",
      "14           0.533821           0.466408           0.565239   \n",
      "15           0.521420           0.458128           0.554106   \n",
      "16           0.522608           0.463970           0.559425   \n",
      "17           0.529555           0.464840           0.562636   \n",
      "\n",
      "    split4_test_score  mean_test_score  std_test_score  rank_test_score  \n",
      "0            0.586682         0.538022        0.043396               17  \n",
      "1            0.591892         0.543987        0.048215                9  \n",
      "2            0.586195         0.539439        0.045782               14  \n",
      "3            0.590233         0.545337        0.043127                6  \n",
      "4            0.588252         0.545315        0.045447                7  \n",
      "5            0.590877         0.546067        0.046261                2  \n",
      "6            0.576528         0.538031        0.043939               16  \n",
      "7            0.582199         0.539625        0.044803               13  \n",
      "8            0.579026         0.541322        0.043937               12  \n",
      "9            0.583781         0.544964        0.038810                8  \n",
      "10           0.587627         0.549057        0.043019                1  \n",
      "11           0.580978         0.545580        0.043649                5  \n",
      "12           0.580779         0.545830        0.039643                3  \n",
      "13           0.582708         0.543027        0.045452               10  \n",
      "14           0.587316         0.545784        0.043516                4  \n",
      "15           0.572330         0.535833        0.043144               18  \n",
      "16           0.575044         0.539346        0.042331               15  \n",
      "17           0.573458         0.541348        0.041701               11  \n",
      "Test accuracy:  0.7115168539325842\n",
      "Test macro F1:  0.5298230936471057\n"
     ]
    }
   ],
   "source": [
    "from sklearn.model_selection import GridSearchCV\n",
    "parameters = {'n_estimators': [50,100,150], \n",
    "              'criterion': ['gini','entropy'],\n",
    "              'min_samples_split':[2,10,50]\n",
    "             } \n",
    "clf = GridSearchCV(RF(), parameters, cv=5, n_jobs=-1, scoring='f1_macro')\n",
    "clf.fit(X_cv_train[0], d.hypnogram_cv_train[0])\n",
    "print(clf.cv_results_['mean_test_score'])\n",
    "results = pd.DataFrame(clf.cv_results_)\n",
    "print(results)\n",
    "prediction = clf.best_estimator_.predict(X_cv_valid[0])\n",
    "print('Test accuracy: ',accuracy_score(prediction, d.hypnogram_cv_valid[0]))\n",
    "print('Test macro F1: ',f1_score(prediction, d.hypnogram_cv_valid[0],average='macro'))"
   ]
  },
  {
   "cell_type": "code",
   "execution_count": 29,
   "metadata": {},
   "outputs": [
    {
     "name": "stdout",
     "output_type": "stream",
     "text": [
      "[0.53780901 0.54679554 0.54805148 0.54621964 0.54680744 0.54587742\n",
      " 0.54298268 0.54426114 0.54772336 0.54470732 0.54399329 0.54589918]\n",
      "Test accuracy:  0.7176966292134831\n",
      "Test macro F1:  0.5330527582551083\n"
     ]
    }
   ],
   "source": [
    "from sklearn.model_selection import GridSearchCV\n",
    "parameters = {'n_estimators': [50,100,150,200,250,300], \n",
    "              'criterion': ['gini','entropy']\n",
    "             } \n",
    "clf = GridSearchCV(RF(), parameters, cv=5, n_jobs=-1, scoring='f1_macro')\n",
    "clf.fit(X_cv_train[0], d.hypnogram_cv_train[0])\n",
    "print(clf.cv_results_['mean_test_score'])\n",
    "results = pd.DataFrame(clf.cv_results_)\n",
    "prediction = clf.best_estimator_.predict(X_cv_valid[0])\n",
    "print('Test accuracy: ',accuracy_score(prediction, d.hypnogram_cv_valid[0]))\n",
    "print('Test macro F1: ',f1_score(prediction, d.hypnogram_cv_valid[0],average='macro'))"
   ]
  },
  {
   "cell_type": "code",
   "execution_count": 30,
   "metadata": {},
   "outputs": [
    {
     "data": {
      "text/html": [
       "<div>\n",
       "<style scoped>\n",
       "    .dataframe tbody tr th:only-of-type {\n",
       "        vertical-align: middle;\n",
       "    }\n",
       "\n",
       "    .dataframe tbody tr th {\n",
       "        vertical-align: top;\n",
       "    }\n",
       "\n",
       "    .dataframe thead th {\n",
       "        text-align: right;\n",
       "    }\n",
       "</style>\n",
       "<table border=\"1\" class=\"dataframe\">\n",
       "  <thead>\n",
       "    <tr style=\"text-align: right;\">\n",
       "      <th></th>\n",
       "      <th>mean_fit_time</th>\n",
       "      <th>std_fit_time</th>\n",
       "      <th>mean_score_time</th>\n",
       "      <th>std_score_time</th>\n",
       "      <th>param_criterion</th>\n",
       "      <th>param_n_estimators</th>\n",
       "      <th>params</th>\n",
       "      <th>split0_test_score</th>\n",
       "      <th>split1_test_score</th>\n",
       "      <th>split2_test_score</th>\n",
       "      <th>split3_test_score</th>\n",
       "      <th>split4_test_score</th>\n",
       "      <th>mean_test_score</th>\n",
       "      <th>std_test_score</th>\n",
       "      <th>rank_test_score</th>\n",
       "    </tr>\n",
       "  </thead>\n",
       "  <tbody>\n",
       "    <tr>\n",
       "      <th>0</th>\n",
       "      <td>35.361403</td>\n",
       "      <td>0.636016</td>\n",
       "      <td>0.143139</td>\n",
       "      <td>0.016655</td>\n",
       "      <td>gini</td>\n",
       "      <td>50</td>\n",
       "      <td>{'criterion': 'gini', 'n_estimators': 50}</td>\n",
       "      <td>0.574428</td>\n",
       "      <td>0.523544</td>\n",
       "      <td>0.446820</td>\n",
       "      <td>0.555774</td>\n",
       "      <td>0.588479</td>\n",
       "      <td>0.537809</td>\n",
       "      <td>0.050425</td>\n",
       "      <td>12</td>\n",
       "    </tr>\n",
       "    <tr>\n",
       "      <th>1</th>\n",
       "      <td>51.503818</td>\n",
       "      <td>8.433681</td>\n",
       "      <td>0.153917</td>\n",
       "      <td>0.007657</td>\n",
       "      <td>gini</td>\n",
       "      <td>100</td>\n",
       "      <td>{'criterion': 'gini', 'n_estimators': 100}</td>\n",
       "      <td>0.576464</td>\n",
       "      <td>0.532947</td>\n",
       "      <td>0.467574</td>\n",
       "      <td>0.568572</td>\n",
       "      <td>0.588420</td>\n",
       "      <td>0.546796</td>\n",
       "      <td>0.043715</td>\n",
       "      <td>4</td>\n",
       "    </tr>\n",
       "    <tr>\n",
       "      <th>2</th>\n",
       "      <td>58.005997</td>\n",
       "      <td>1.367794</td>\n",
       "      <td>0.221936</td>\n",
       "      <td>0.026937</td>\n",
       "      <td>gini</td>\n",
       "      <td>150</td>\n",
       "      <td>{'criterion': 'gini', 'n_estimators': 150}</td>\n",
       "      <td>0.582066</td>\n",
       "      <td>0.528430</td>\n",
       "      <td>0.464592</td>\n",
       "      <td>0.576851</td>\n",
       "      <td>0.588318</td>\n",
       "      <td>0.548051</td>\n",
       "      <td>0.046815</td>\n",
       "      <td>1</td>\n",
       "    </tr>\n",
       "    <tr>\n",
       "      <th>3</th>\n",
       "      <td>75.175189</td>\n",
       "      <td>1.362751</td>\n",
       "      <td>0.288130</td>\n",
       "      <td>0.017533</td>\n",
       "      <td>gini</td>\n",
       "      <td>200</td>\n",
       "      <td>{'criterion': 'gini', 'n_estimators': 200}</td>\n",
       "      <td>0.575173</td>\n",
       "      <td>0.529803</td>\n",
       "      <td>0.463777</td>\n",
       "      <td>0.575259</td>\n",
       "      <td>0.587086</td>\n",
       "      <td>0.546220</td>\n",
       "      <td>0.045646</td>\n",
       "      <td>5</td>\n",
       "    </tr>\n",
       "    <tr>\n",
       "      <th>4</th>\n",
       "      <td>102.047925</td>\n",
       "      <td>16.030476</td>\n",
       "      <td>0.488904</td>\n",
       "      <td>0.186263</td>\n",
       "      <td>gini</td>\n",
       "      <td>250</td>\n",
       "      <td>{'criterion': 'gini', 'n_estimators': 250}</td>\n",
       "      <td>0.575935</td>\n",
       "      <td>0.529654</td>\n",
       "      <td>0.466780</td>\n",
       "      <td>0.572264</td>\n",
       "      <td>0.589405</td>\n",
       "      <td>0.546807</td>\n",
       "      <td>0.044743</td>\n",
       "      <td>3</td>\n",
       "    </tr>\n",
       "    <tr>\n",
       "      <th>5</th>\n",
       "      <td>143.877175</td>\n",
       "      <td>24.453022</td>\n",
       "      <td>0.386402</td>\n",
       "      <td>0.010421</td>\n",
       "      <td>gini</td>\n",
       "      <td>300</td>\n",
       "      <td>{'criterion': 'gini', 'n_estimators': 300}</td>\n",
       "      <td>0.579727</td>\n",
       "      <td>0.528706</td>\n",
       "      <td>0.459781</td>\n",
       "      <td>0.570607</td>\n",
       "      <td>0.590565</td>\n",
       "      <td>0.545877</td>\n",
       "      <td>0.047879</td>\n",
       "      <td>7</td>\n",
       "    </tr>\n",
       "    <tr>\n",
       "      <th>6</th>\n",
       "      <td>36.013217</td>\n",
       "      <td>1.142220</td>\n",
       "      <td>0.062505</td>\n",
       "      <td>0.003078</td>\n",
       "      <td>entropy</td>\n",
       "      <td>50</td>\n",
       "      <td>{'criterion': 'entropy', 'n_estimators': 50}</td>\n",
       "      <td>0.574702</td>\n",
       "      <td>0.525325</td>\n",
       "      <td>0.470464</td>\n",
       "      <td>0.565073</td>\n",
       "      <td>0.579349</td>\n",
       "      <td>0.542983</td>\n",
       "      <td>0.040957</td>\n",
       "      <td>11</td>\n",
       "    </tr>\n",
       "    <tr>\n",
       "      <th>7</th>\n",
       "      <td>69.556897</td>\n",
       "      <td>1.721175</td>\n",
       "      <td>0.118941</td>\n",
       "      <td>0.003053</td>\n",
       "      <td>entropy</td>\n",
       "      <td>100</td>\n",
       "      <td>{'criterion': 'entropy', 'n_estimators': 100}</td>\n",
       "      <td>0.574442</td>\n",
       "      <td>0.522756</td>\n",
       "      <td>0.474734</td>\n",
       "      <td>0.566052</td>\n",
       "      <td>0.583322</td>\n",
       "      <td>0.544261</td>\n",
       "      <td>0.040517</td>\n",
       "      <td>9</td>\n",
       "    </tr>\n",
       "    <tr>\n",
       "      <th>8</th>\n",
       "      <td>104.251239</td>\n",
       "      <td>2.708343</td>\n",
       "      <td>0.173774</td>\n",
       "      <td>0.006433</td>\n",
       "      <td>entropy</td>\n",
       "      <td>150</td>\n",
       "      <td>{'criterion': 'entropy', 'n_estimators': 150}</td>\n",
       "      <td>0.582247</td>\n",
       "      <td>0.530548</td>\n",
       "      <td>0.468412</td>\n",
       "      <td>0.569946</td>\n",
       "      <td>0.587464</td>\n",
       "      <td>0.547723</td>\n",
       "      <td>0.044386</td>\n",
       "      <td>2</td>\n",
       "    </tr>\n",
       "    <tr>\n",
       "      <th>9</th>\n",
       "      <td>139.168172</td>\n",
       "      <td>2.761809</td>\n",
       "      <td>0.229753</td>\n",
       "      <td>0.004053</td>\n",
       "      <td>entropy</td>\n",
       "      <td>200</td>\n",
       "      <td>{'criterion': 'entropy', 'n_estimators': 200}</td>\n",
       "      <td>0.578818</td>\n",
       "      <td>0.526926</td>\n",
       "      <td>0.472960</td>\n",
       "      <td>0.563542</td>\n",
       "      <td>0.581290</td>\n",
       "      <td>0.544707</td>\n",
       "      <td>0.040793</td>\n",
       "      <td>8</td>\n",
       "    </tr>\n",
       "    <tr>\n",
       "      <th>10</th>\n",
       "      <td>178.048073</td>\n",
       "      <td>8.330562</td>\n",
       "      <td>0.288679</td>\n",
       "      <td>0.007756</td>\n",
       "      <td>entropy</td>\n",
       "      <td>250</td>\n",
       "      <td>{'criterion': 'entropy', 'n_estimators': 250}</td>\n",
       "      <td>0.575268</td>\n",
       "      <td>0.525592</td>\n",
       "      <td>0.466713</td>\n",
       "      <td>0.566110</td>\n",
       "      <td>0.586284</td>\n",
       "      <td>0.543993</td>\n",
       "      <td>0.043741</td>\n",
       "      <td>10</td>\n",
       "    </tr>\n",
       "    <tr>\n",
       "      <th>11</th>\n",
       "      <td>199.494642</td>\n",
       "      <td>16.943717</td>\n",
       "      <td>0.331159</td>\n",
       "      <td>0.056704</td>\n",
       "      <td>entropy</td>\n",
       "      <td>300</td>\n",
       "      <td>{'criterion': 'entropy', 'n_estimators': 300}</td>\n",
       "      <td>0.578432</td>\n",
       "      <td>0.528134</td>\n",
       "      <td>0.468257</td>\n",
       "      <td>0.568664</td>\n",
       "      <td>0.586010</td>\n",
       "      <td>0.545899</td>\n",
       "      <td>0.043656</td>\n",
       "      <td>6</td>\n",
       "    </tr>\n",
       "  </tbody>\n",
       "</table>\n",
       "</div>"
      ],
      "text/plain": [
       "    mean_fit_time  std_fit_time  mean_score_time  std_score_time  \\\n",
       "0       35.361403      0.636016         0.143139        0.016655   \n",
       "1       51.503818      8.433681         0.153917        0.007657   \n",
       "2       58.005997      1.367794         0.221936        0.026937   \n",
       "3       75.175189      1.362751         0.288130        0.017533   \n",
       "4      102.047925     16.030476         0.488904        0.186263   \n",
       "5      143.877175     24.453022         0.386402        0.010421   \n",
       "6       36.013217      1.142220         0.062505        0.003078   \n",
       "7       69.556897      1.721175         0.118941        0.003053   \n",
       "8      104.251239      2.708343         0.173774        0.006433   \n",
       "9      139.168172      2.761809         0.229753        0.004053   \n",
       "10     178.048073      8.330562         0.288679        0.007756   \n",
       "11     199.494642     16.943717         0.331159        0.056704   \n",
       "\n",
       "   param_criterion param_n_estimators  \\\n",
       "0             gini                 50   \n",
       "1             gini                100   \n",
       "2             gini                150   \n",
       "3             gini                200   \n",
       "4             gini                250   \n",
       "5             gini                300   \n",
       "6          entropy                 50   \n",
       "7          entropy                100   \n",
       "8          entropy                150   \n",
       "9          entropy                200   \n",
       "10         entropy                250   \n",
       "11         entropy                300   \n",
       "\n",
       "                                           params  split0_test_score  \\\n",
       "0       {'criterion': 'gini', 'n_estimators': 50}           0.574428   \n",
       "1      {'criterion': 'gini', 'n_estimators': 100}           0.576464   \n",
       "2      {'criterion': 'gini', 'n_estimators': 150}           0.582066   \n",
       "3      {'criterion': 'gini', 'n_estimators': 200}           0.575173   \n",
       "4      {'criterion': 'gini', 'n_estimators': 250}           0.575935   \n",
       "5      {'criterion': 'gini', 'n_estimators': 300}           0.579727   \n",
       "6    {'criterion': 'entropy', 'n_estimators': 50}           0.574702   \n",
       "7   {'criterion': 'entropy', 'n_estimators': 100}           0.574442   \n",
       "8   {'criterion': 'entropy', 'n_estimators': 150}           0.582247   \n",
       "9   {'criterion': 'entropy', 'n_estimators': 200}           0.578818   \n",
       "10  {'criterion': 'entropy', 'n_estimators': 250}           0.575268   \n",
       "11  {'criterion': 'entropy', 'n_estimators': 300}           0.578432   \n",
       "\n",
       "    split1_test_score  split2_test_score  split3_test_score  \\\n",
       "0            0.523544           0.446820           0.555774   \n",
       "1            0.532947           0.467574           0.568572   \n",
       "2            0.528430           0.464592           0.576851   \n",
       "3            0.529803           0.463777           0.575259   \n",
       "4            0.529654           0.466780           0.572264   \n",
       "5            0.528706           0.459781           0.570607   \n",
       "6            0.525325           0.470464           0.565073   \n",
       "7            0.522756           0.474734           0.566052   \n",
       "8            0.530548           0.468412           0.569946   \n",
       "9            0.526926           0.472960           0.563542   \n",
       "10           0.525592           0.466713           0.566110   \n",
       "11           0.528134           0.468257           0.568664   \n",
       "\n",
       "    split4_test_score  mean_test_score  std_test_score  rank_test_score  \n",
       "0            0.588479         0.537809        0.050425               12  \n",
       "1            0.588420         0.546796        0.043715                4  \n",
       "2            0.588318         0.548051        0.046815                1  \n",
       "3            0.587086         0.546220        0.045646                5  \n",
       "4            0.589405         0.546807        0.044743                3  \n",
       "5            0.590565         0.545877        0.047879                7  \n",
       "6            0.579349         0.542983        0.040957               11  \n",
       "7            0.583322         0.544261        0.040517                9  \n",
       "8            0.587464         0.547723        0.044386                2  \n",
       "9            0.581290         0.544707        0.040793                8  \n",
       "10           0.586284         0.543993        0.043741               10  \n",
       "11           0.586010         0.545899        0.043656                6  "
      ]
     },
     "execution_count": 30,
     "metadata": {},
     "output_type": "execute_result"
    }
   ],
   "source": [
    "results"
   ]
  },
  {
   "cell_type": "code",
   "execution_count": 25,
   "metadata": {},
   "outputs": [
    {
     "name": "stdout",
     "output_type": "stream",
     "text": [
      "Mean acc 74.2 +- 3.9 %\n",
      "Mean MacroF1 0.565 +- 0.040 %\n"
     ]
    },
    {
     "data": {
      "image/png": "[encoded data removed]",
      "text/plain": [
       "<Figure size 576x288 with 2 Axes>"
      ]
     },
     "metadata": {
      "needs_background": "light"
     },
     "output_type": "display_data"
    }
   ],
   "source": [
    "clf = RF(n_estimators=150, n_jobs=-1, criterion='entropy')\n",
    "\n",
    "acc = []\n",
    "f1macro = []\n",
    "cm = []\n",
    "for k in range(d.K):\n",
    "    clf.fit(X_cv_train[k],d.hypnogram_cv_train[k])\n",
    "    pred = clf.predict(X_cv_valid[k])\n",
    "    acc.append(accuracy_score(d.hypnogram_cv_valid[k], pred))\n",
    "    f1macro.append(f1_score(d.hypnogram_cv_valid[k], pred,average='macro'))\n",
    "    cm.append(confusion_matrix(d.hypnogram_cv_valid[k], pred))   \n",
    "print('Mean acc %.1f +- %.1f %%' %(100*np.mean(acc),100*np.std(acc)))\n",
    "print('Mean MacroF1 %.3f +- %.3f %%' %(np.mean(f1macro),np.std(f1macro)))\n",
    "plot_mean_cm(cm)\n"
   ]
  },
  {
   "cell_type": "code",
   "execution_count": 26,
   "metadata": {},
   "outputs": [
    {
     "name": "stdout",
     "output_type": "stream",
     "text": [
      "Mean acc 74.0 +- 3.6 %\n",
      "Mean MacroF1 0.564 +- 0.040 %\n"
     ]
    },
    {
     "data": {
      "image/png": "[encoded data removed]",
      "text/plain": [
       "<Figure size 576x288 with 2 Axes>"
      ]
     },
     "metadata": {
      "needs_background": "light"
     },
     "output_type": "display_data"
    }
   ],
   "source": [
    "clf = RF(n_estimators=150, n_jobs=-1, criterion='gini')\n",
    "\n",
    "acc = []\n",
    "f1macro = []\n",
    "cm = []\n",
    "for k in range(d.K):\n",
    "    clf.fit(X_cv_train[k],d.hypnogram_cv_train[k])\n",
    "    pred = clf.predict(X_cv_valid[k])\n",
    "    acc.append(accuracy_score(d.hypnogram_cv_valid[k], pred))\n",
    "    f1macro.append(f1_score(d.hypnogram_cv_valid[k], pred,average='macro'))\n",
    "    cm.append(confusion_matrix(d.hypnogram_cv_valid[k], pred))   \n",
    "print('Mean acc %.1f +- %.1f %%' %(100*np.mean(acc),100*np.std(acc)))\n",
    "print('Mean MacroF1 %.3f +- %.3f %%' %(np.mean(f1macro),np.std(f1macro)))\n",
    "plot_mean_cm(cm)\n",
    "# criterion gini gives 74.2% acc, 56.7% F1 score"
   ]
  }
 ],
 "metadata": {
  "kernelspec": {
   "display_name": "Python 3",
   "language": "python",
   "name": "python3"
  },
  "language_info": {
   "codemirror_mode": {
    "name": "ipython",
    "version": 3
   },
   "file_extension": ".py",
   "mimetype": "text/x-python",
   "name": "python",
   "nbconvert_exporter": "python",
   "pygments_lexer": "ipython3",
   "version": "3.7.4"
  }
 },
 "nbformat": 4,
 "nbformat_minor": 4
}
